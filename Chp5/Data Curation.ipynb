{
 "cells": [
  {
   "cell_type": "markdown",
   "id": "28a0673e-96b5-43f2-8a8b-bd033bf851b0",
   "metadata": {},
   "source": [
    "# The Product Pricer Continued\n",
    "\n",
    "A model that can estimate how much something costs, from its description.\n",
    "\n",
    "## Data Curation\n",
    "\n",
    "Today we'll extend our dataset to a greater coverage, and craft it into an excellent dataset for training.\n",
    "\n",
    "The dataset is here:  \n",
    "https://huggingface.co/datasets/McAuley-Lab/Amazon-Reviews-2023\n",
    "\n",
    "And the folder with all the product datasets is here:  \n",
    "https://huggingface.co/datasets/McAuley-Lab/Amazon-Reviews-2023/tree/main/raw/meta_categories\n",
    "\n",
    "## Important Note - read me first please\n",
    "\n",
    "We are about to craft a massive dataset of 400,000 items covering multiple types of product."
   ]
  },
  {
   "cell_type": "code",
   "execution_count": 1,
   "id": "67cedf85-8125-4322-998e-9375fe745597",
   "metadata": {},
   "outputs": [],
   "source": [
    "# Imports necessary libraries and modules\n",
    "\n",
    "import os  # Provides a way to interact with the operating system, e.g., file paths\n",
    "import random  # Implements random number generation and selection of random elements\n",
    "from dotenv import load_dotenv  # Loads environment variables from a .env file\n",
    "from huggingface_hub import login  # Allows interaction with the Hugging Face Hub (for login and access)\n",
    "from datasets import load_dataset, Dataset, DatasetDict  # Provides functions to load datasets from Hugging Face and work with them\n",
    "from items import Item  # Imports the custom 'Item' class from the 'items' module\n",
    "from loaders import ItemLoader  # Imports the custom 'ItemLoader' class from the 'loaders' module\n",
    "import matplotlib.pyplot as plt  # Used for creating visualizations (e.g., plots and graphs)\n",
    "from collections import Counter, defaultdict  # Provides tools for counting and handling default dictionary behavior\n",
    "import numpy as np  # Used for numerical operations, especially on arrays\n",
    "import pickle  # Used for serializing and deserializing Python objects\n"
   ]
  },
  {
   "cell_type": "code",
   "execution_count": 2,
   "id": "7390a6aa-79cb-4dea-b6d7-de7e4b13e472",
   "metadata": {},
   "outputs": [],
   "source": [
    "# environment\n",
    "\n",
    "load_dotenv()\n",
    "os.environ['OPENAI_API_KEY'] = os.getenv('OPENAI_API_KEY', 'your-key-if-not-using-env')\n",
    "os.environ['ANTHROPIC_API_KEY'] = os.getenv('ANTHROPIC_API_KEY', 'your-key-if-not-using-env')\n",
    "os.environ['HF_TOKEN'] = os.getenv('HF_TOKEN', 'your-key-if-not-using-env')"
   ]
  },
  {
   "cell_type": "code",
   "execution_count": null,
   "id": "0732274a-aa6a-44fc-aee2-40dc8a8e4451",
   "metadata": {},
   "outputs": [],
   "source": [
    "# Log in to HuggingFace\n",
    "\n",
    "hf_token = os.environ['HF_TOKEN']\n",
    "login(hf_token, add_to_git_credential=True)"
   ]
  },
  {
   "cell_type": "code",
   "execution_count": 4,
   "id": "1adcf323-de9d-4c24-a9c3-d7ae554d06ca",
   "metadata": {},
   "outputs": [],
   "source": [
    "# This command allows matplotlib plots to be displayed directly within the Jupyter notebook.\n",
    "%matplotlib inline\n"
   ]
  },
  {
   "cell_type": "markdown",
   "id": "01065d69-765c-42c8-9f90-68b8c8754068",
   "metadata": {},
   "source": [
    "## The ItemLoader code\n",
    "\n",
    "Look in loaders.py - there's some useful code to make life easier for us"
   ]
  },
  {
   "cell_type": "code",
   "execution_count": null,
   "id": "049885d4-fdfa-4ff0-a932-4a2ed73928e2",
   "metadata": {},
   "outputs": [],
   "source": [
    "# Load in a dataset\n",
    "\n",
    "items = ItemLoader(\"Appliances\").load()"
   ]
  },
  {
   "cell_type": "code",
   "execution_count": null,
   "id": "ffba41b5-ddb6-4359-9790-9b2db900eee1",
   "metadata": {},
   "outputs": [],
   "source": [
    "# Let's Look for a item\n",
    "print(items[1].prompt)"
   ]
  },
  {
   "cell_type": "markdown",
   "id": "e2b6dc50-ac5c-4cf2-af2e-968ed8ef86d7",
   "metadata": {},
   "source": [
    "## Now to SCALE UP\n",
    "\n",
    "Let's look at all datasets of all the items that you might find in a large home retail store - electrical, electronic, office and related, but not clothes / beauty / books."
   ]
  },
  {
   "cell_type": "code",
   "execution_count": 7,
   "id": "d1d06cd3-f3c2-44f0-a9f2-13b54ff8be5c",
   "metadata": {},
   "outputs": [],
   "source": [
    "dataset_names = [\n",
    "    \"Automotive\",\n",
    "    \"Electronics\",\n",
    "    \"Office_Products\",\n",
    "    \"Tools_and_Home_Improvement\",\n",
    "    \"Cell_Phones_and_Accessories\",\n",
    "    \"Toys_and_Games\",\n",
    "    \"Appliances\",\n",
    "    \"Musical_Instruments\",\n",
    "]"
   ]
  },
  {
   "cell_type": "code",
   "execution_count": null,
   "id": "aa8fd0f0-509a-4298-8fcc-e499a061e1be",
   "metadata": {},
   "outputs": [],
   "source": [
    "items = []\n",
    "for dataset_name in dataset_names:\n",
    "    loader = ItemLoader(dataset_name)\n",
    "    items.extend(loader.load())\n",
    "\n",
    "# Now, time for a coffee break!!\n",
    "# By the way, I put the biggest datasets first.. it gets faster."
   ]
  },
  {
   "cell_type": "code",
   "execution_count": null,
   "id": "3e29a5ab-ca61-41cc-9b33-22d374681b85",
   "metadata": {},
   "outputs": [],
   "source": [
    "print(f\"A grand total of {len(items):,} items\")"
   ]
  },
  {
   "cell_type": "code",
   "execution_count": null,
   "id": "89078cb1-9679-4eb0-b295-599b8586bcd1",
   "metadata": {},
   "outputs": [],
   "source": [
    "# Plot the distribution of token counts\n",
    "\n",
    "# Create a list of token counts from the 'items' list, extracting the 'token_count' attribute from each item\n",
    "tokens = [item.token_count for item in items]\n",
    "\n",
    "# Set up the figure size for the plot (15x6 inches)\n",
    "plt.figure(figsize=(15, 6))\n",
    "\n",
    "# Set the title of the plot, including the average and highest token counts\n",
    "plt.title(f\"Token counts: Avg {sum(tokens)/len(tokens):,.1f} and highest {max(tokens):,}\\n\")\n",
    "\n",
    "# Set the label for the x-axis (Length of tokens)\n",
    "plt.xlabel('Length (tokens)')\n",
    "\n",
    "# Set the label for the y-axis (Count of occurrences)\n",
    "plt.ylabel('Count')\n",
    "\n",
    "# Plot a histogram of the token counts:\n",
    "# - rwidth=0.7 adjusts the width of the bars\n",
    "# - color=\"skyblue\" sets the bar color\n",
    "# - bins=range(0, 300, 10) defines the bins for token lengths, from 0 to 300 with intervals of 10\n",
    "plt.hist(tokens, rwidth=0.7, color=\"skyblue\", bins=range(0, 300, 10))\n",
    "\n",
    "# Display the plot\n",
    "plt.show()\n"
   ]
  },
  {
   "cell_type": "code",
   "execution_count": null,
   "id": "c38e0c43-9f7a-450e-a911-c94d37d9b9c3",
   "metadata": {},
   "outputs": [],
   "source": [
    "# Plot the distribution of prices\n",
    "\n",
    "# Create a list of prices from the 'items' list, extracting the 'price' attribute from each item\n",
    "prices = [item.price for item in items]\n",
    "\n",
    "# Set up the figure size for the plot (15x6 inches)\n",
    "plt.figure(figsize=(15, 6))\n",
    "\n",
    "# Set the title of the plot, including the average and highest prices\n",
    "plt.title(f\"Prices: Avg {sum(prices)/len(prices):,.1f} and highest {max(prices):,}\\n\")\n",
    "\n",
    "# Set the label for the x-axis (Price in USD)\n",
    "plt.xlabel('Price ($)')\n",
    "\n",
    "# Set the label for the y-axis (Count of occurrences)\n",
    "plt.ylabel('Count')\n",
    "\n",
    "# Plot a histogram of the prices:\n",
    "# - rwidth=0.7 adjusts the width of the bars\n",
    "# - color=\"blueviolet\" sets the bar color\n",
    "# - bins=range(0, 1000, 10) defines the bins for prices, from 0 to 1000 with intervals of 10\n",
    "plt.hist(prices, rwidth=0.7, color=\"blueviolet\", bins=range(0, 1000, 10))\n",
    "\n",
    "# Display the plot\n",
    "plt.show()\n"
   ]
  },
  {
   "cell_type": "code",
   "execution_count": null,
   "id": "eabc7c61-0cd2-41f4-baa1-b85400bbf87f",
   "metadata": {},
   "outputs": [],
   "source": [
    "category_counts = Counter()\n",
    "for item in items:\n",
    "    category_counts[item.category]+=1\n",
    "\n",
    "categories = category_counts.keys()\n",
    "counts = [category_counts[category] for category in categories]\n",
    "\n",
    "# Bar chart by category\n",
    "plt.figure(figsize=(15, 6))\n",
    "plt.bar(categories, counts, color=\"goldenrod\")\n",
    "plt.title('How many in each category')\n",
    "plt.xlabel('Categories')\n",
    "plt.ylabel('Count')\n",
    "\n",
    "plt.xticks(rotation=30, ha='right')\n",
    "\n",
    "# Add value labels on top of each bar\n",
    "for i, v in enumerate(counts):\n",
    "    plt.text(i, v, f\"{v:,}\", ha='center', va='bottom')\n",
    "\n",
    "# Display the chart\n",
    "plt.show()"
   ]
  },
  {
   "cell_type": "markdown",
   "id": "e5b6e987-83ba-4262-a082-57c6b0741062",
   "metadata": {},
   "source": [
    "# Objective\n",
    "\n",
    "Craft a dataset which is more balanced in terms of prices. Less heavily scewed to cheap items, with an average that's higher than $60. Try to balance out the categories - fewer Automotive items."
   ]
  },
  {
   "cell_type": "code",
   "execution_count": 13,
   "id": "3b9424c1-44e0-499a-b45e-a35246655469",
   "metadata": {},
   "outputs": [],
   "source": [
    "# Create a dict with a key of each price from $1 to $999\n",
    "# And in the value, put a list of items with that price (to nearest round number)\n",
    "\n",
    "slots = defaultdict(list)\n",
    "for item in items:\n",
    "    slots[round(item.price)].append(item)"
   ]
  },
  {
   "cell_type": "code",
   "execution_count": null,
   "id": "7805a7f1-4ad8-48f6-bea3-d64b64894804",
   "metadata": {},
   "outputs": [],
   "source": [
    "# Create a dataset called \"sample\" which tries to more evenly take from the range of prices\n",
    "# And gives more weight to items from categories other than Automotive\n",
    "# Set random seed for reproducibility\n",
    "\n",
    "# Set the random seed to ensure results are reproducible\n",
    "np.random.seed(42)\n",
    "random.seed(42)\n",
    "\n",
    "# Initialize an empty list to store the sample items\n",
    "sample = []\n",
    "\n",
    "# Iterate through the range of slots (1 to 1000)\n",
    "for i in range(1, 1000):\n",
    "    # Retrieve the current slot (list of items) based on the index\n",
    "    slot = slots[i]\n",
    "    \n",
    "    # If the index is greater than or equal to 240, add the whole slot to the sample\n",
    "    if i >= 240:\n",
    "        sample.extend(slot)\n",
    "    \n",
    "    # If the slot has 1200 or fewer items, add the whole slot to the sample\n",
    "    elif len(slot) <= 1200:\n",
    "        sample.extend(slot)\n",
    "    \n",
    "    # For other cases, apply weighting and sample 1200 items\n",
    "    else:\n",
    "        # Assign a weight of 1 to 'Automotive' category items, and 5 to other categories\n",
    "        weights = np.array([1 if item.category == 'Automotive' else 5 for item in slot])\n",
    "        \n",
    "        # Normalize the weights to sum up to 1\n",
    "        weights = weights / np.sum(weights)\n",
    "        \n",
    "        # Randomly select 1200 items from the slot based on the weights (without replacement)\n",
    "        selected_indices = np.random.choice(len(slot), size=1200, replace=False, p=weights)\n",
    "        \n",
    "        # Add the selected items to the sample\n",
    "        selected = [slot[i] for i in selected_indices]\n",
    "        sample.extend(selected)\n",
    "\n",
    "# Print the total number of items in the sample\n",
    "print(f\"There are {len(sample):,} items in the sample\")\n"
   ]
  },
  {
   "cell_type": "code",
   "execution_count": null,
   "id": "430b432f-b769-41da-9506-a238cb5cf1b6",
   "metadata": {},
   "outputs": [],
   "source": [
    "# Plot the distribution of prices in sample\n",
    "\n",
    "# Create a list of prices from the sample dataset, converting each price to a float\n",
    "prices = [float(item.price) for item in sample]\n",
    "\n",
    "# Set up the figure size for the plot (15x10 inches)\n",
    "plt.figure(figsize=(15, 10))\n",
    "\n",
    "# Set the title of the plot, including the average and highest prices\n",
    "plt.title(f\"Avg {sum(prices)/len(prices):.2f} and highest {max(prices):,.2f}\\n\")\n",
    "\n",
    "# Set the label for the x-axis (Price in USD)\n",
    "plt.xlabel('Price ($)')\n",
    "\n",
    "# Set the label for the y-axis (Count of occurrences)\n",
    "plt.ylabel('Count')\n",
    "\n",
    "# Plot a histogram of the prices:\n",
    "# - rwidth=0.7 adjusts the width of the bars\n",
    "# - color=\"darkblue\" sets the bar color\n",
    "# - bins=range(0, 1000, 10) defines the bins for prices, from 0 to 1000 with intervals of 10\n",
    "plt.hist(prices, rwidth=0.7, color=\"darkblue\", bins=range(0, 1000, 10))\n",
    "\n",
    "# Display the plot\n",
    "plt.show()\n"
   ]
  },
  {
   "cell_type": "code",
   "execution_count": null,
   "id": "0d570794-6f1d-462e-b567-a46bae3556a1",
   "metadata": {},
   "outputs": [],
   "source": [
    "# OK, we did well in terms of raising the average price and having a smooth-ish population of prices\n",
    "# Let's see the categories\n",
    "\n",
    "# Initialize a Counter to store the count of each category in the sample\n",
    "category_counts = Counter()\n",
    "\n",
    "# Iterate through the items in the sample and update the count for each category\n",
    "for item in sample:\n",
    "    category_counts[item.category] += 1\n",
    "\n",
    "# Get the list of categories (keys) and their corresponding counts (values)\n",
    "categories = category_counts.keys()\n",
    "counts = [category_counts[category] for category in categories]\n",
    "\n",
    "# Create a bar chart to visualize the counts of items in each category\n",
    "plt.figure(figsize=(15, 6))\n",
    "\n",
    "# Plot the bar chart with categories on the x-axis and counts on the y-axis\n",
    "plt.bar(categories, counts, color=\"lightgreen\")\n",
    "\n",
    "# Customize the chart by adding a title and labels for the x and y axes\n",
    "plt.title('How many in each category')\n",
    "plt.xlabel('Categories')\n",
    "plt.ylabel('Count')\n",
    "\n",
    "# Rotate x-axis labels by 30 degrees for better readability and align them to the right\n",
    "plt.xticks(rotation=30, ha='right')\n",
    "\n",
    "# Add value labels on top of each bar for better clarity\n",
    "for i, v in enumerate(counts):\n",
    "    plt.text(i, v, f\"{v:,}\", ha='center', va='bottom')\n",
    "\n",
    "# Display the chart\n",
    "plt.show()"
   ]
  },
  {
   "cell_type": "code",
   "execution_count": null,
   "id": "6609d77c-3e0a-4679-9129-c7cdc3273070",
   "metadata": {},
   "outputs": [],
   "source": [
    "# Automotive still in the lead, but improved somewhat\n",
    "# For another perspective, let's look at a pie\n",
    "\n",
    "plt.figure(figsize=(12, 10))\n",
    "plt.pie(counts, labels=categories, autopct='%1.0f%%', startangle=90)\n",
    "\n",
    "# Add a circle at the center to create a donut chart (optional)\n",
    "centre_circle = plt.Circle((0,0), 0.70, fc='white')\n",
    "fig = plt.gcf()\n",
    "fig.gca().add_artist(centre_circle)\n",
    "plt.title('Categories')\n",
    "\n",
    "# Equal aspect ratio ensures that pie is drawn as a circle\n",
    "plt.axis('equal')  \n",
    "\n",
    "plt.show()"
   ]
  },
  {
   "cell_type": "markdown",
   "id": "ac046cc1-2717-415b-96ad-b73b2950d235",
   "metadata": {},
   "source": [
    "# Dataset Curated!\n",
    "\n",
    "We've crafted an excellent dataset.\n",
    "\n",
    "Let's do some final checks"
   ]
  },
  {
   "cell_type": "code",
   "execution_count": null,
   "id": "70219e99-22cc-4e08-9121-51f9707caef0",
   "metadata": {},
   "outputs": [],
   "source": [
    "# How does the price vary with the character count of the prompt?\n",
    "\n",
    "sizes = [len(item.prompt) for item in sample]\n",
    "prices = [item.price for item in sample]\n",
    "\n",
    "# Create the scatter plot\n",
    "plt.figure(figsize=(15, 8))\n",
    "plt.scatter(sizes, prices, s=0.2, color=\"red\")\n",
    "\n",
    "# Add labels and title\n",
    "plt.xlabel('Size')\n",
    "plt.ylabel('Price')\n",
    "plt.title('Is there a simple correlation?')\n",
    "\n",
    "# Display the plot\n",
    "plt.show()"
   ]
  },
  {
   "cell_type": "code",
   "execution_count": 19,
   "id": "30ae1453-b9fc-40db-8310-65d850c4b1da",
   "metadata": {},
   "outputs": [],
   "source": [
    "def report(item):\n",
    "    # Get the prompt from the item\n",
    "    prompt = item.prompt\n",
    "    \n",
    "    # Encode the prompt using the tokenizer from the Item class\n",
    "    tokens = Item.tokenizer.encode(item.prompt)\n",
    "    \n",
    "    # Print the full prompt\n",
    "    print(prompt)\n",
    "    \n",
    "    # Print the last 10 tokens of the encoded prompt\n",
    "    print(tokens[-10:])\n",
    "    \n",
    "    # Decode the last 10 tokens back into text and print it\n",
    "    print(Item.tokenizer.batch_decode(tokens[-10:]))\n"
   ]
  },
  {
   "cell_type": "code",
   "execution_count": null,
   "id": "d9998b8d-d746-4541-9ac2-701108e0e8fb",
   "metadata": {},
   "outputs": [],
   "source": [
    "report(sample[398000])"
   ]
  },
  {
   "cell_type": "markdown",
   "id": "7aa0a3fc-d2fe-4e6e-8fdb-96913df2f588",
   "metadata": {},
   "source": [
    "## Observation\n",
    "\n",
    "An interesting thing about the Llama tokenizer is that every number from 1 to 999 gets mapped to 1 token, much as we saw with gpt-4o. The same is not true of qwen2, gemma and phi3, which all map individual digits to tokens. This does turn out to be a bit useful for our project, although it's not an essential requirement."
   ]
  },
  {
   "cell_type": "markdown",
   "id": "0f03c0ee-3103-4603-af5c-b484884a3aa2",
   "metadata": {},
   "source": [
    "# Finally\n",
    "\n",
    "It's time to break down our data into a training, test and validation dataset.\n",
    "\n",
    "It's typical to use 5%-10% of your data for testing purposes, but actually we have far more than we need at this point. We'll take 400,000 points for training, and we'll reserve 2,000 for testing, although we won't use all of them.\n"
   ]
  },
  {
   "cell_type": "code",
   "execution_count": null,
   "id": "3b163ca2-18ef-4c26-8e9d-88eb55f114f6",
   "metadata": {},
   "outputs": [],
   "source": [
    "# Set the random seed to ensure reproducibility of the shuffling process\n",
    "random.seed(42)\n",
    "\n",
    "# Shuffle the 'sample' dataset randomly\n",
    "random.shuffle(sample)\n",
    "\n",
    "# Split the shuffled dataset into a training set (first 400,000 items) and a test set (next 2,000 items)\n",
    "train = sample[:400_000]\n",
    "test = sample[400_000:402_000]\n",
    "\n",
    "# Print the sizes of the training and test sets\n",
    "print(f\"Divided into a training set of {len(train):,} items and test set of {len(test):,} items\")\n"
   ]
  },
  {
   "cell_type": "code",
   "execution_count": null,
   "id": "299b9816-8885-4798-829a-69d66d60eb01",
   "metadata": {},
   "outputs": [],
   "source": [
    "print(train[0].prompt)"
   ]
  },
  {
   "cell_type": "code",
   "execution_count": null,
   "id": "97222da3-9f2c-4d15-a5cd-5e5f8dbde6cc",
   "metadata": {},
   "outputs": [],
   "source": [
    "print(test[0].test_prompt())"
   ]
  },
  {
   "cell_type": "code",
   "execution_count": null,
   "id": "7a116369-335a-412b-b70c-2add6675c2e3",
   "metadata": {},
   "outputs": [],
   "source": [
    "# Plot the distribution of prices in the first 250 test points\n",
    "\n",
    "# Extract the prices from the first 250 items in the test dataset, converting them to floats\n",
    "prices = [float(item.price) for item in test[:250]]\n",
    "\n",
    "# Set up the figure size for the plot (15x6 inches)\n",
    "plt.figure(figsize=(15, 6))\n",
    "\n",
    "# Set the title of the plot, including the average and highest prices\n",
    "plt.title(f\"Avg {sum(prices)/len(prices):.2f} and highest {max(prices):,.2f}\\n\")\n",
    "\n",
    "# Set the label for the x-axis (Price in USD)\n",
    "plt.xlabel('Price ($)')\n",
    "\n",
    "# Set the label for the y-axis (Count of occurrences)\n",
    "plt.ylabel('Count')\n",
    "\n",
    "# Plot a histogram of the prices in the first 250 test items:\n",
    "# - rwidth=0.7 adjusts the width of the bars\n",
    "# - color=\"darkblue\" sets the bar color\n",
    "# - bins=range(0, 1000, 10) defines the bins for prices, from 0 to 1000 with intervals of 10\n",
    "plt.hist(prices, rwidth=0.7, color=\"darkblue\", bins=range(0, 1000, 10))\n",
    "\n",
    "# Display the plot\n",
    "plt.show()\n"
   ]
  },
  {
   "cell_type": "markdown",
   "id": "d522d752-6f66-4786-a4dc-8ef51842558c",
   "metadata": {},
   "source": [
    "# Finally - upload your brand new dataset\n",
    "\n",
    "Convert to prompts and upload to HuggingFace hub"
   ]
  },
  {
   "cell_type": "code",
   "execution_count": 25,
   "id": "fa11b3e5-fcf4-4efc-a573-f6f67fec3e73",
   "metadata": {},
   "outputs": [],
   "source": [
    "# Create a list of prompts from the training set\n",
    "train_prompts = [item.prompt for item in train]\n",
    "\n",
    "# Create a list of prices from the training set\n",
    "train_prices = [item.price for item in train]\n",
    "\n",
    "# Create a list of prompts from the test set by calling the 'test_prompt' method on each item\n",
    "test_prompts = [item.test_prompt() for item in test]\n",
    "\n",
    "# Create a list of prices from the test set\n",
    "test_prices = [item.price for item in test]\n"
   ]
  },
  {
   "cell_type": "code",
   "execution_count": 26,
   "id": "b020ab1b-7153-4e5f-b8a3-d5bc2fafb6df",
   "metadata": {},
   "outputs": [],
   "source": [
    "# Create a Dataset from the lists\n",
    "\n",
    "# Convert the training data into a Dataset, using 'train_prompts' for the text and 'train_prices' for the price\n",
    "train_dataset = Dataset.from_dict({\"text\": train_prompts, \"price\": train_prices})\n",
    "\n",
    "# Convert the test data into a Dataset, using 'test_prompts' for the text and 'test_prices' for the price\n",
    "test_dataset = Dataset.from_dict({\"text\": test_prompts, \"price\": test_prices})\n",
    "\n",
    "# Create a DatasetDict to hold both the train and test datasets\n",
    "dataset = DatasetDict({\n",
    "    \"train\": train_dataset,\n",
    "    \"test\": test_dataset\n",
    "})\n"
   ]
  },
  {
   "cell_type": "code",
   "execution_count": 27,
   "id": "17639641-fb55-44e2-a463-b0b394d00f32",
   "metadata": {},
   "outputs": [],
   "source": [
    "# Uncomment these lines if you're ready to push to the hub, and replace with your HF username\n",
    "\n",
    "# HF_USER = \"\"\n",
    "# DATASET_NAME = f\"{HF_USER}/pricer-data\"\n",
    "# dataset.push_to_hub(DATASET_NAME, private=True)"
   ]
  },
  {
   "cell_type": "code",
   "execution_count": 28,
   "id": "b85733ba-d165-4f07-b055-46803543edfe",
   "metadata": {},
   "outputs": [],
   "source": [
    "# One more thing!\n",
    "# Let's pickle the training and test dataset so we don't have to execute all this code next time!\n",
    "\n",
    "with open('train.pkl', 'wb') as file:\n",
    "    pickle.dump(train, file)\n",
    "\n",
    "with open('test.pkl', 'wb') as file:\n",
    "    pickle.dump(test, file)"
   ]
  },
  {
   "cell_type": "markdown",
   "id": "2b58dc61-747f-46f7-b9e0-c205db4f3e5e",
   "metadata": {},
   "source": [
    "## Todos for you:\n",
    "\n",
    "- Investigate the dataset more!\n",
    "- Confirm that the tokenizer tokenizes all 3 digit prices into 1 token"
   ]
  }
 ],
 "metadata": {
  "kernelspec": {
   "display_name": "LLM_Engineer",
   "language": "python",
   "name": "python3"
  },
  "language_info": {
   "codemirror_mode": {
    "name": "ipython",
    "version": 3
   },
   "file_extension": ".py",
   "mimetype": "text/x-python",
   "name": "python",
   "nbconvert_exporter": "python",
   "pygments_lexer": "ipython3",
   "version": "3.11.11"
  }
 },
 "nbformat": 4,
 "nbformat_minor": 5
}
