{
 "cells": [
  {
   "cell_type": "markdown",
   "metadata": {},
   "source": [
    "# 🚀 Time to Go Open-Source!\n",
    "\n",
    "Ready to explore and collaborate? Click the link below to open the project in Google Colab:\n",
    "\n",
    "\n",
    "[![Open in Colab](https://colab.research.google.com/assets/colab-badge.svg)](https://colab.research.google.com/drive/1fyftajDr88UtQJnbBLwrZkCivc3p367n?usp=sharing)"
   ]
  },
  {
   "cell_type": "markdown",
   "metadata": {},
   "source": [
    "# As a homework try to ask a model like Qwen-2.5-7B\n",
    "\n",
    "[![Open in Hugging Face](https://img.shields.io/badge/Open%20in-Hugging%20Face-FFB000?style=for-the-badge&logo=huggingface&logoColor=white)](https://huggingface.co/Qwen/Qwen2.5-7B)"
   ]
  }
 ],
 "metadata": {
  "language_info": {
   "name": "python"
  }
 },
 "nbformat": 4,
 "nbformat_minor": 2
}
